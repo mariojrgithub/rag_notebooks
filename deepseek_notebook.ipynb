{
 "cells": [
  {
   "cell_type": "code",
   "execution_count": 55,
   "metadata": {},
   "outputs": [],
   "source": [
    "import os\n",
    "import getpass\n",
    "\n",
    "def _set_env(var: str):\n",
    "    if not os.environ.get(var):\n",
    "        os.environ[var] = getpass.getpass(f\"{var}: \") "
   ]
  },
  {
   "cell_type": "code",
   "execution_count": 56,
   "metadata": {},
   "outputs": [],
   "source": [
    "os.environ[\"GOOGLE_API_KEY\"] = os.environ.get(\"GOOGLE_API_KEY\") \n",
    "\n",
    "os.environ[\"LANGCHAIN_API_KEY\"] = os.environ.get(\"LANGCHAIN_API_KEY\")\n",
    "os.environ[\"LANGCHAIN_TRACING_V2\"] = \"true\"\n",
    "os.environ[\"LANGCHAIN_PROJECT\"] = \"macbook_deepseek\"\n",
    "os.environ[\"LANGCHAIN_ENDPOINT\"] = \"https://api.smith.langchain.com\""
   ]
  },
  {
   "cell_type": "code",
   "execution_count": 57,
   "metadata": {},
   "outputs": [],
   "source": [
    "from langchain.callbacks.base import BaseCallbackHandler\n",
    "from langchain.callbacks.manager import CallbackManager\n",
    "from langchain.schema import HumanMessage\n",
    "from langchain.chat_models import ChatOllama\n",
    "from IPython.display import display, Markdown, clear_output\n",
    "import sys"
   ]
  },
  {
   "cell_type": "code",
   "execution_count": 62,
   "metadata": {},
   "outputs": [],
   "source": [
    "class JupyterStreamHandler(BaseCallbackHandler):\n",
    "    \"\"\"Custom callback handler for streaming tokens with Markdown rendering in Jupyter Notebook.\"\"\"\n",
    "    \n",
    "    def __init__(self, max_width=80):\n",
    "        self.buffer = \"\"  # Buffer for accumulated tokens\n",
    "        self.current_line = \"\"  # Current line for width tracking\n",
    "        self.max_width = max_width  # Maximum width for lines\n",
    "    \n",
    "    def on_llm_new_token(self, token: str, **kwargs) -> None:\n",
    "        # Add the token to the current line\n",
    "        if len(self.current_line) + len(token) > self.max_width:\n",
    "            # If the line exceeds max width, append it to the buffer with a newline\n",
    "            self.buffer += self.current_line + \"\\n\"\n",
    "            self.current_line = \"\"  # Reset the current line\n",
    "        \n",
    "        # Add the token to the current line\n",
    "        self.current_line += token\n",
    "\n",
    "        # Dynamically render the output\n",
    "        clear_output(wait=True)\n",
    "        display(Markdown(self.buffer + self.current_line))  # Combine buffer and current line for display\n",
    "\n",
    "    def on_llm_end(self, *args, **kwargs) -> None:\n",
    "        # Flush any remaining content in the current line\n",
    "        if self.current_line:\n",
    "            self.buffer += self.current_line + \"\\n\"\n",
    "            self.current_line = \"\"\n",
    "        \n",
    "        # Display the final content\n",
    "        clear_output(wait=True)\n",
    "        display(Markdown(self.buffer))\n",
    "        self.buffer = \"\"  # Clear the buffer after completion\n",
    "\n",
    "# Initialize the custom stream handler with a max width of 80 characters\n",
    "stream_handler = JupyterStreamHandler(max_width=110)"
   ]
  },
  {
   "cell_type": "code",
   "execution_count": 63,
   "metadata": {},
   "outputs": [],
   "source": [
    "# Create a CallbackManager and add the custom handler\n",
    "callback_manager = CallbackManager([stream_handler])"
   ]
  },
  {
   "cell_type": "code",
   "execution_count": null,
   "metadata": {},
   "outputs": [],
   "source": [
    "base_url = \"http://localhost:11434\"\n",
    "local_llm = \"deepseek-r1:8b\"\n",
    "llm = ChatOllama(model=local_llm, \n",
    "                 base_url=base_url, \n",
    "                 temperature=0, \n",
    "                 callback_manager=callback_manager,\n",
    "                 streaming=True)"
   ]
  },
  {
   "cell_type": "code",
   "execution_count": null,
   "metadata": {},
   "outputs": [],
   "source": [
    "# Construct a human message\n",
    "message = HumanMessage(content=\"\"\"\n",
    "                       What are the steps for running kubernetes on docker? \n",
    "                       I would like to create applications and run them in containers running on pods.\n",
    "                       I would also like to integrate opentelemtry for tracing and monitoring.\n",
    "                       Provide python code examples as well as any example yaml files required for docker.\n",
    "                       \"\"\")\n",
    "\n",
    "# Run the chain and stream the response\n",
    "response = llm([message])"
   ]
  },
  {
   "cell_type": "code",
   "execution_count": null,
   "metadata": {},
   "outputs": [],
   "source": []
  },
  {
   "cell_type": "code",
   "execution_count": null,
   "metadata": {},
   "outputs": [],
   "source": []
  },
  {
   "cell_type": "code",
   "execution_count": null,
   "metadata": {},
   "outputs": [],
   "source": []
  }
 ],
 "metadata": {
  "kernelspec": {
   "display_name": "base",
   "language": "python",
   "name": "python3"
  },
  "language_info": {
   "codemirror_mode": {
    "name": "ipython",
    "version": 3
   },
   "file_extension": ".py",
   "mimetype": "text/x-python",
   "name": "python",
   "nbconvert_exporter": "python",
   "pygments_lexer": "ipython3",
   "version": "3.12.2"
  }
 },
 "nbformat": 4,
 "nbformat_minor": 2
}
